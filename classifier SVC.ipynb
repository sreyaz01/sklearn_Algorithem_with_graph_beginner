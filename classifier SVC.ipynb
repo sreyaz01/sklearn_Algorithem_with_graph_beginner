{
 "cells": [
  {
   "cell_type": "code",
   "execution_count": 1,
   "metadata": {},
   "outputs": [],
   "source": [
    "from sklearn.datasets import load_iris\n",
    "from sklearn.model_selection import train_test_split \n",
    "from sklearn.svm import SVC \n",
    "from sklearn.metrics import confusion_matrix"
   ]
  },
  {
   "cell_type": "code",
   "execution_count": 2,
   "metadata": {},
   "outputs": [],
   "source": [
    "ds=load_iris()\n",
    "x=ds.data\n",
    "y=ds.target"
   ]
  },
  {
   "cell_type": "code",
   "execution_count": 3,
   "metadata": {},
   "outputs": [],
   "source": [
    "xtrain,xtest,ytrain,ytest=train_test_split(x,y,test_size=.2,random_state=2) #random_state is for stop suffling data to store in variable"
   ]
  },
  {
   "cell_type": "code",
   "execution_count": 4,
   "metadata": {},
   "outputs": [
    {
     "data": {
      "text/plain": [
       "SVC(C=1.0, cache_size=200, class_weight=None, coef0=0.0,\n",
       "    decision_function_shape='ovr', degree=3, gamma='auto_deprecated',\n",
       "    kernel='rbf', max_iter=-1, probability=False, random_state=None,\n",
       "    shrinking=True, tol=0.001, verbose=False)"
      ]
     },
     "execution_count": 4,
     "metadata": {},
     "output_type": "execute_result"
    }
   ],
   "source": [
    "SVC()"
   ]
  },
  {
   "cell_type": "code",
   "execution_count": 5,
   "metadata": {},
   "outputs": [],
   "source": [
    "#model when kernel is linear\n",
    "model=SVC(kernel='linear')\n",
    "model.fit(xtrain,ytrain)\n",
    "y_predic=model.predict(xtest)"
   ]
  },
  {
   "cell_type": "code",
   "execution_count": 6,
   "metadata": {},
   "outputs": [
    {
     "name": "stdout",
     "output_type": "stream",
     "text": [
      "Accuracy when kernel is linear 100.0\n"
     ]
    }
   ],
   "source": [
    "y_predic=model.predict(xtest)\n",
    "print('Accuracy when kernel is linear',model.score(xtest,ytest)*100)"
   ]
  },
  {
   "cell_type": "code",
   "execution_count": 7,
   "metadata": {},
   "outputs": [
    {
     "name": "stdout",
     "output_type": "stream",
     "text": [
      "Confusion matrix for linear kernel\n",
      " [[14  0  0]\n",
      " [ 0  8  0]\n",
      " [ 0  0  8]]\n"
     ]
    }
   ],
   "source": [
    "#confusion matrix for linear kernel\n",
    "cm_linear=confusion_matrix(ytest,y_predic)\n",
    "print('Confusion matrix for linear kernel\\n',cm_linear)"
   ]
  },
  {
   "cell_type": "code",
   "execution_count": 8,
   "metadata": {},
   "outputs": [
    {
     "name": "stdout",
     "output_type": "stream",
     "text": [
      "Accuracy when kernel is poly 100.0\n"
     ]
    }
   ],
   "source": [
    "# model when kernel is poly\n",
    "model_poly=SVC(kernel='poly',gamma='auto')\n",
    "model_poly.fit(xtrain,ytrain)\n",
    "y_p_poly=model_poly.predict(xtest)\n",
    "print('Accuracy when kernel is poly',model_poly.score(xtest,ytest)*100)"
   ]
  },
  {
   "cell_type": "code",
   "execution_count": 9,
   "metadata": {},
   "outputs": [
    {
     "name": "stdout",
     "output_type": "stream",
     "text": [
      "Confusion matrix for poly kernel\n",
      " [[14  0  0]\n",
      " [ 0  8  0]\n",
      " [ 0  0  8]]\n"
     ]
    }
   ],
   "source": [
    "#confusion matrix for poly kernel\n",
    "cm_poly=confusion_matrix(ytest,y_p_poly)\n",
    "print('Confusion matrix for poly kernel\\n',cm_poly)"
   ]
  },
  {
   "cell_type": "code",
   "execution_count": 10,
   "metadata": {},
   "outputs": [
    {
     "name": "stdout",
     "output_type": "stream",
     "text": [
      "Accuracy when kernel is rbf 96.66666666666667\n"
     ]
    }
   ],
   "source": [
    "#model when kernel is rbf\n",
    "model_rbf=SVC(gamma='auto')\n",
    "model_rbf.fit(xtrain,ytrain)\n",
    "y_rbf=model_rbf.predict(xtest)\n",
    "print('Accuracy when kernel is rbf',model_rbf.score(xtest,ytest)*100)"
   ]
  },
  {
   "cell_type": "code",
   "execution_count": 11,
   "metadata": {},
   "outputs": [
    {
     "name": "stdout",
     "output_type": "stream",
     "text": [
      "Confusion matrix for rbf kernel\n",
      " [[14  0  0]\n",
      " [ 0  7  1]\n",
      " [ 0  0  8]]\n"
     ]
    }
   ],
   "source": [
    "#confusion matrix for rbf kernel\n",
    "cm_rbf=confusion_matrix(ytest,y_rbf)\n",
    "print('Confusion matrix for rbf kernel\\n',cm_rbf)"
   ]
  },
  {
   "cell_type": "code",
   "execution_count": 12,
   "metadata": {},
   "outputs": [
    {
     "name": "stdout",
     "output_type": "stream",
     "text": [
      "accuracy score\n",
      "linear 100.0\n",
      "poly 100.0\n",
      "RBF 96.66666666666667\n"
     ]
    }
   ],
   "source": [
    "print('accuracy score')\n",
    "print('linear',model.score(xtest,ytest)*100)\n",
    "print('poly',model_poly.score(xtest,ytest)*100)\n",
    "print('RBF',model_rbf.score(xtest,ytest)*100)"
   ]
  },
  {
   "cell_type": "code",
   "execution_count": null,
   "metadata": {},
   "outputs": [],
   "source": []
  }
 ],
 "metadata": {
  "kernelspec": {
   "display_name": "Python 3",
   "language": "python",
   "name": "python3"
  },
  "language_info": {
   "codemirror_mode": {
    "name": "ipython",
    "version": 3
   },
   "file_extension": ".py",
   "mimetype": "text/x-python",
   "name": "python",
   "nbconvert_exporter": "python",
   "pygments_lexer": "ipython3",
   "version": "3.7.3"
  }
 },
 "nbformat": 4,
 "nbformat_minor": 4
}
