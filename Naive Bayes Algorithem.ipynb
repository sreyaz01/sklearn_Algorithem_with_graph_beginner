{
 "cells": [
  {
   "cell_type": "code",
   "execution_count": 1,
   "metadata": {},
   "outputs": [],
   "source": [
    "from sklearn.datasets import load_iris\n",
    "import pandas as pd\n",
    "from sklearn.model_selection import train_test_split \n",
    "import numpy as np\n",
    "from sklearn import linear_model\n",
    "from sklearn.metrics import confusion_matrix\n",
    "from sklearn.naive_bayes import GaussianNB #importing Gaussian model from Naive Bayes algorithem\n",
    "from sklearn.naive_bayes import MultinomialNB\n",
    "from sklearn.naive_bayes import BernoulliNB"
   ]
  },
  {
   "cell_type": "code",
   "execution_count": 2,
   "metadata": {},
   "outputs": [],
   "source": [
    "dataset=load_iris()\n",
    "x=dataset.data\n",
    "y=dataset.target"
   ]
  },
  {
   "cell_type": "code",
   "execution_count": 3,
   "metadata": {},
   "outputs": [],
   "source": [
    "#train and test data\n",
    "xtrain,xtest,ytrain,ytest=train_test_split(x,y,test_size=.30)"
   ]
  },
  {
   "cell_type": "code",
   "execution_count": 4,
   "metadata": {},
   "outputs": [
    {
     "name": "stdout",
     "output_type": "stream",
     "text": [
      "accuracy 97.77777777777777\n"
     ]
    }
   ],
   "source": [
    "#1) gaussian model\n",
    "gnb_model=GaussianNB()\n",
    "gnb_model.fit(xtrain,ytrain)\n",
    "y_predict=gnb_model.predict(xtest)\n",
    "accuracy=gnb_model.score(xtest,ytest)*100\n",
    "print('accuracy',accuracy)\n"
   ]
  },
  {
   "cell_type": "code",
   "execution_count": 5,
   "metadata": {},
   "outputs": [
    {
     "name": "stdout",
     "output_type": "stream",
     "text": [
      "[[14  0  0]\n",
      " [ 0 12  0]\n",
      " [ 0  1 18]]\n"
     ]
    }
   ],
   "source": [
    "#confusion matrix creation\n",
    "cm=confusion_matrix(ytest,y_predict) # syntax of confusion matrix= variable=confusion_matrix(orignaldat,predicted data)\n",
    "print(cm)\n"
   ]
  },
  {
   "cell_type": "code",
   "execution_count": 6,
   "metadata": {},
   "outputs": [
    {
     "name": "stdout",
     "output_type": "stream",
     "text": [
      "[1 1 0 0 1 0 1 1 0 1 0 1 0 0 0 0 1 1 1 0 1 0 1 1 1 1 1 1 2 1 0 1 1 0 2 1 2\n",
      " 1 1 1 1 1 1 1 0]\n",
      "accuracy 64.44444444444444\n",
      "[2 2 0 0 2 0 1 1 0 2 0 1 0 0 0 0 1 2 2 0 2 0 2 2 1 1 1 1 2 1 0 2 2 0 2 2 2\n",
      " 2 1 2 2 1 1 2 0]\n"
     ]
    }
   ],
   "source": [
    "# 2) multinomial model\n",
    "mn_model=MultinomialNB()\n",
    "mn_model.fit(xtrain,ytrain)\n",
    "y_mn_pred=mn_model.predict(xtest)\n",
    "print(y_mn_pred)\n",
    "accuracy1=mn_model.score(xtest,ytest)*100\n",
    "print('accuracy',accuracy1)\n",
    "print(ytest)"
   ]
  },
  {
   "cell_type": "code",
   "execution_count": 7,
   "metadata": {},
   "outputs": [
    {
     "name": "stdout",
     "output_type": "stream",
     "text": [
      "[[14  0  0]\n",
      " [ 0 12  0]\n",
      " [ 0 16  3]]\n"
     ]
    }
   ],
   "source": [
    "#confusion method for multinomial\n",
    "cm1=confusion_matrix(ytest,y_mn_pred)\n",
    "print(cm1)"
   ]
  },
  {
   "cell_type": "code",
   "execution_count": 8,
   "metadata": {},
   "outputs": [
    {
     "name": "stdout",
     "output_type": "stream",
     "text": [
      "[1 1 1 1 1 1 1 1 1 1 1 1 1 1 1 1 1 1 1 1 1 1 1 1 1 1 1 1 1 1 1 1 1 1 1 1 1\n",
      " 1 1 1 1 1 1 1 1]\n",
      "accuracy 26.666666666666668\n",
      "[2 2 0 0 2 0 1 1 0 2 0 1 0 0 0 0 1 2 2 0 2 0 2 2 1 1 1 1 2 1 0 2 2 0 2 2 2\n",
      " 2 1 2 2 1 1 2 0]\n"
     ]
    }
   ],
   "source": [
    "# 3) Bernoulli method\n",
    "b_model=BernoulliNB()\n",
    "b_model.fit(xtrain,ytrain)\n",
    "y_b_pred=b_model.predict(xtest)\n",
    "print(y_b_pred)\n",
    "accuracy2=b_model.score(xtest,ytest)*100\n",
    "print('accuracy',accuracy2)\n",
    "print(ytest)"
   ]
  },
  {
   "cell_type": "code",
   "execution_count": 9,
   "metadata": {},
   "outputs": [
    {
     "name": "stdout",
     "output_type": "stream",
     "text": [
      "[[14  0  0]\n",
      " [ 0 12  0]\n",
      " [ 0 16  3]]\n"
     ]
    }
   ],
   "source": [
    "#confusion method for Bernoulli\n",
    "cm2=confusion_matrix(ytest,y_b_pred)\n",
    "print(cm1)"
   ]
  },
  {
   "cell_type": "code",
   "execution_count": null,
   "metadata": {},
   "outputs": [],
   "source": []
  }
 ],
 "metadata": {
  "kernelspec": {
   "display_name": "Python 3",
   "language": "python",
   "name": "python3"
  },
  "language_info": {
   "codemirror_mode": {
    "name": "ipython",
    "version": 3
   },
   "file_extension": ".py",
   "mimetype": "text/x-python",
   "name": "python",
   "nbconvert_exporter": "python",
   "pygments_lexer": "ipython3",
   "version": "3.7.3"
  }
 },
 "nbformat": 4,
 "nbformat_minor": 4
}
