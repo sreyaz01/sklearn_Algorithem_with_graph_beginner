{
 "cells": [
  {
   "cell_type": "code",
   "execution_count": 1,
   "metadata": {},
   "outputs": [],
   "source": [
    "from sklearn.datasets import load_iris \n",
    "from sklearn.model_selection import train_test_split \n",
    "from sklearn.metrics import confusion_matrix\n",
    "from sklearn.neighbors import KNeighborsClassifier"
   ]
  },
  {
   "cell_type": "code",
   "execution_count": 2,
   "metadata": {},
   "outputs": [
    {
     "name": "stdout",
     "output_type": "stream",
     "text": [
      "Accuracy 93.33\n",
      "Confusion Matrix\n",
      " [[18  0  0]\n",
      " [ 0 12  2]\n",
      " [ 0  1 12]]\n"
     ]
    }
   ],
   "source": [
    "dataset=load_iris()\n",
    "x=dataset.data\n",
    "y=dataset.target\n",
    "xtrain,xtest,ytrain,ytest=train_test_split(x,y,test_size=.30)\n",
    "#1) knn model\n",
    "knn_model=KNeighborsClassifier()\n",
    "knn_model.fit(xtrain,ytrain)\n",
    "y_predict=knn_model.predict(xtest)\n",
    "accuracy=knn_model.score(xtest,ytest)*100\n",
    "print('Accuracy','{0:0.2f}'.format(accuracy))\n",
    "cm=confusion_matrix(ytest,y_predict) # syntax of cunsion matrix= variable=confusion_matrix(orignaldat,predicted data)\n",
    "print('Confusion Matrix\\n',cm)"
   ]
  },
  {
   "cell_type": "code",
   "execution_count": null,
   "metadata": {},
   "outputs": [],
   "source": []
  }
 ],
 "metadata": {
  "kernelspec": {
   "display_name": "Python 3",
   "language": "python",
   "name": "python3"
  },
  "language_info": {
   "codemirror_mode": {
    "name": "ipython",
    "version": 3
   },
   "file_extension": ".py",
   "mimetype": "text/x-python",
   "name": "python",
   "nbconvert_exporter": "python",
   "pygments_lexer": "ipython3",
   "version": "3.7.3"
  }
 },
 "nbformat": 4,
 "nbformat_minor": 4
}
